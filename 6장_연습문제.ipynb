{
  "nbformat": 4,
  "nbformat_minor": 0,
  "metadata": {
    "colab": {
      "provenance": [],
      "authorship_tag": "ABX9TyPmYw7hmjciWsx26Zv+ZFyM",
      "include_colab_link": true
    },
    "kernelspec": {
      "name": "python3",
      "display_name": "Python 3"
    },
    "language_info": {
      "name": "python"
    }
  },
  "cells": [
    {
      "cell_type": "markdown",
      "metadata": {
        "id": "view-in-github",
        "colab_type": "text"
      },
      "source": [
        "<a href=\"https://colab.research.google.com/github/ksnuKJY/BP_10_Ch6/blob/main/6%EC%9E%A5_%EC%97%B0%EC%8A%B5%EB%AC%B8%EC%A0%9C.ipynb\" target=\"_parent\"><img src=\"https://colab.research.google.com/assets/colab-badge.svg\" alt=\"Open In Colab\"/></a>"
      ]
    },
    {
      "cell_type": "code",
      "execution_count": null,
      "metadata": {
        "colab": {
          "base_uri": "https://localhost:8080/"
        },
        "id": "PazrVBo730QN",
        "outputId": "d987a025-7fd0-4839-9240-b2c6c3f16334"
      },
      "outputs": [
        {
          "output_type": "stream",
          "name": "stdout",
          "text": [
            "2 4 6 8 10 12 14 16 18 20 22 24 26 28 30 32 34 36 38 40 42 44 46 48 50 52 54 56 58 60 62 64 66 68 70 72 74 76 78 80 82 84 86 88 90 92 94 96 98 100 "
          ]
        }
      ],
      "source": [
        "for i in range(2, 101):                               #2부터 100사이\n",
        "  if i%2==0 :                                         #i%2한 결과가 0이라면\n",
        "    print(i,end = \" \")                                #i값 출력"
      ]
    },
    {
      "cell_type": "code",
      "source": [
        "year = 0                                             #변수year은 0\n",
        "balance = 1000                                       #변수balance는 1000\n",
        "\n",
        "while balance <= 2000 :                              #balance가 2000이하인 동안\n",
        "  year = year + 1                                    #year에 1추가\n",
        "  interest = balance * 0.07                          \n",
        "  balance = balance + interest                       #balance를 1.07배함\n",
        "print(year, \"년이 걸립니다.\")                        #year출력"
      ],
      "metadata": {
        "colab": {
          "base_uri": "https://localhost:8080/"
        },
        "id": "M0QwfAhy6a6V",
        "outputId": "fff1f607-2f06-4cda-ce62-3ecbdefa0412"
      },
      "execution_count": 1,
      "outputs": [
        {
          "output_type": "stream",
          "name": "stdout",
          "text": [
            "11 년이 걸립니다.\n"
          ]
        }
      ]
    },
    {
      "cell_type": "code",
      "source": [
        "n=1234                                               #변수n은 1234\n",
        "sum=0                                                #변수sum은 0\n",
        "while n > 0 :                                        #n이 0보다 큰 동안\n",
        "  digit = n % 10                                     #digit에 n의 1의자리수 저장\n",
        "  sum=sum+digit                                      #sum에 digit를 더함\n",
        "  n=n//10                                            #n을 10으로 나눔\n",
        "print(sum)                                           #sum출력"
      ],
      "metadata": {
        "id": "2DHFv5Ve-L3L",
        "colab": {
          "base_uri": "https://localhost:8080/"
        },
        "outputId": "e343b30d-5cb3-4fdf-9b1f-df59c4b83039"
      },
      "execution_count": null,
      "outputs": [
        {
          "output_type": "stream",
          "name": "stdout",
          "text": [
            "10\n"
          ]
        }
      ]
    },
    {
      "cell_type": "code",
      "source": [
        "ans=0                                               #변수ans는 0\n",
        "while ans !=3*9:                                    #ans가 3*9가 아닌 동안\n",
        "  ans=int(input(\"3*9는\"))                           #ans값 입력\n",
        "print(\"맞았습니다.\")                                #맞았습니다. 출력"
      ],
      "metadata": {
        "colab": {
          "base_uri": "https://localhost:8080/"
        },
        "id": "KHQdKoqutfvD",
        "outputId": "32f619a4-81d5-407d-90d5-ae065c180572"
      },
      "execution_count": null,
      "outputs": [
        {
          "output_type": "stream",
          "name": "stdout",
          "text": [
            "3*9는27\n",
            "맞았습니다.\n"
          ]
        }
      ]
    },
    {
      "cell_type": "code",
      "source": [
        "sum=0                                               #변수 sum은 0\n",
        "while True:\n",
        "  x=int(input(\"정수를 입력하시오: \"))               #x에 정수 입력\n",
        "  if x == 0:                                        #만약 x가 0이라면\n",
        "    break;                                          #while문 종료\n",
        "  sum=sum+x                                         #sum에 x를 더함\n",
        "\n",
        "print(\"합은\",sum,\"입니다.\")                         #sum 출력"
      ],
      "metadata": {
        "colab": {
          "base_uri": "https://localhost:8080/"
        },
        "id": "BPqpHpiNt93O",
        "outputId": "81cca699-3709-43f2-cde1-43eacd7ac25d"
      },
      "execution_count": null,
      "outputs": [
        {
          "output_type": "stream",
          "name": "stdout",
          "text": [
            "정수를 입력하시오: 25\n",
            "정수를 입력하시오: 19\n",
            "정수를 입력하시오: 38\n",
            "정수를 입력하시오: 774\n",
            "정수를 입력하시오: 0\n",
            "합은 856 입니다.\n"
          ]
        }
      ]
    },
    {
      "cell_type": "code",
      "source": [
        "from random import randint                          #random라이브러리에 randint함수 불러옴\n",
        "\n",
        "for i in range(3) :                                 #0에서 2까지\n",
        "  d1=randint(1,6)                                   #d1에 1부터 6사이의 랜덤한 정수 대입\n",
        "  d2=randint(1,6)                                   #d2에 1부터 6사이의 랜덤한 정수 대입\n",
        "  print(\"첫번째 주사위=\",d1,\"두번째 주사위=\",d2)    #d1,d2 출력"
      ],
      "metadata": {
        "colab": {
          "base_uri": "https://localhost:8080/"
        },
        "id": "1EcNTvfjvU2R",
        "outputId": "53d49309-4747-45e4-a5a0-fc911c6ae2af"
      },
      "execution_count": null,
      "outputs": [
        {
          "output_type": "stream",
          "name": "stdout",
          "text": [
            "첫번째 주사위= 2 두번째 주사위= 6\n",
            "첫번째 주사위= 4 두번째 주사위= 1\n",
            "첫번째 주사위= 2 두번째 주사위= 4\n"
          ]
        }
      ]
    },
    {
      "cell_type": "code",
      "source": [
        "import turtle                                       #turtle함수를 불러옴\n",
        "\n",
        "t=turtle.Turtle()                                   #t에 turtle함수 대입\n",
        "t.shape(\"turtle\")                                   #거북이로 모양 바꿈\n",
        "t.lt(90)                                            #거북이가 90만큼 왼쪽으로 방향전환\n",
        "\n",
        "for i in range(1,7) :                               #i는 1에서 6까지\n",
        "  t.fd(100)                                         #거북이가 100만큼 전진\n",
        "  t.fd(-30)                                         #거북이가 -30만큼 전진\n",
        "  t.lt(60)                                          #거북이가 왼쪽으로 30도만큼 회전\n",
        "  t.fd(30)                                          #거북이가 30만큼 전진\n",
        "  t.fd(-30)                                         #거북이가 -30만큼 전진\n",
        "\n",
        "  t.rt(120)                                         #거북이가 오른쪽으로 120도만큼 회전\n",
        "  t.fd(30)                                          #거북이가 30만큼 전진\n",
        "  t.fd(-30)                                         #거북이가 -30만큼 전진\n",
        "\n",
        "  t.lt(60)                                          #거북이가 왼쪽으로 60도만큼 회전\n",
        "  t.fd(-70)                                         #거북이가 -70만큼 전진\n",
        "  t.lt(60)                                          #거북이가 왼쪽으로 60도만큼 회전"
      ],
      "metadata": {
        "id": "5zdaJj0ewzwn"
      },
      "execution_count": null,
      "outputs": []
    },
    {
      "cell_type": "code",
      "source": [
        "import turtle                                       #turtle함수를 불러옴\n",
        "\n",
        "myPen=turtle.Turtle()                               #myPen에 turtle함수 대입\n",
        "myPen.speed(0)                                      #속도를 0으로 바꿈\n",
        "myPen.color(\"#FF0000\")                              #myPen의 색을 빨강으로 바꿈\n",
        "\n",
        "for j in range (1,10):                              #j는 1에서 9까지\n",
        "  for i in range (1,6):                             #i는 1에서 5까지\n",
        "    myPen.lt(144)                                   #myPen이 왼쪽으로 144도만큼 회전\n",
        "    myPen.fd(200)                                   #myPen이 200만큼 전진\n",
        "  myPen.lt(10)                                      #myPen이 왼쪽으로 10도만큼 회전"
      ],
      "metadata": {
        "id": "vXGTRpgj4sfj"
      },
      "execution_count": null,
      "outputs": []
    },
    {
      "cell_type": "code",
      "source": [
        "import turtle                                       #turtle함수를 불러옴\n",
        "import random                                       #random함수를 불러옴\n",
        "\n",
        "t=turtle.Turtle()                                   #t에 turtle함수 대입\n",
        "t.shape(\"turtle\")                                   #모양을 거북이로 바꿈\n",
        "\n",
        "for j in range (1,10):                              #j는 1에서 9까지\n",
        "  t.up()                                            #거북이가 지나가는 흔적 없애기\n",
        "  x=random.randint(-200,200)                        #x에 -200에서 200사이의 정수 저장\n",
        "  y=random.randint(-200,200)                        #y에 -200에서 200사이의 정수 저장\n",
        "  r=random.randint(10,200)                          #r에 10에서 200사이의 정수 저장\n",
        "  t.goto(x,y)                                       #거북이를 (x,y)로 이동\n",
        "  t.down()                                          #거북이가 지나가는 흔적 다시 표시\n",
        "  t.circle(r)                                       #반지름이 r인 원 그리기"
      ],
      "metadata": {
        "id": "q_ckCPRnCx6K"
      },
      "execution_count": null,
      "outputs": []
    },
    {
      "cell_type": "code",
      "source": [
        "import turtle                                       #turtle함수를 불러옴\n",
        "\n",
        "t=turtle.Turtle()                                   #t에 turtle함수 대입\n",
        "t.shape(\"turtle\")                                   #모양을 거북이로 바꿈\n",
        "\n",
        "for i in range(5):                                  #i는 0에서 4까지\n",
        "  t.fd(200);                                        #거북이가 200만큼 전진\n",
        "  t.rt(90)                                          #거북이가 오른쪽으로 90도만큼 회전\n",
        "  t.fd(20);                                         #거북이가 20만큼 전진\n",
        "  t.rt(90)                                          #거북이가 오른쪽으로 90도만큼 회전\n",
        "  t.fd(200);                                        #거북이가 200만큼 전진\n",
        "  t.lt(90)                                          #거북이가 왼쪽으로 90도만큼 회전\n",
        "  t.fd(20);                                         #거북이가 20만큼 전진\n",
        "  t.lt(90)                                          #거북이가 왼쪽으로 90도만큼 회전"
      ],
      "metadata": {
        "id": "GezgA9HdHzYm"
      },
      "execution_count": null,
      "outputs": []
    },
    {
      "cell_type": "code",
      "source": [
        "import turtle                                       #turtle함수를 불러옴\n",
        "t=turtle.Turtle()                                   #t에 turtle함수 대입\n",
        "t.shape(\"turtle\")                                   #모양을 거북이로 바꿈\n",
        "t.color('red', 'yellow')                            #거북이 색을 빨강과 노랑으로 변경\n",
        "t.begin_fill()                                      #도형안에 색칠하기위한 준비\n",
        "while True:\n",
        "  t.fd(200)                                         #거북이가 200만큼 전진\n",
        "  t.lt(170)                                         #거북이가 왼쪽으로 170도만큼 회전\n",
        "  if abs(t.pos()) < 1:                              #t의 위치가 1미만이라면\n",
        "    break                                           #while문 종료\n",
        "t.end_fill()                                        #색칠끝"
      ],
      "metadata": {
        "id": "Lo6VzqyANQ1w"
      },
      "execution_count": null,
      "outputs": []
    },
    {
      "cell_type": "code",
      "source": [
        "import turtle                                       #turtle함수를 불러옴\n",
        "import math                                         #math함수를 불러옴\n",
        "\n",
        "t=turtle.Turtle()                                   #t에 turtle함수 대입\n",
        "t.shape(\"turtle\")                                   #모양을 거북이로 바꿈\n",
        "t.color('red', 'yellow')                            #거북이 색을 빨강과 노랑으로 변경\n",
        "\n",
        "for x in range(0,360):                              #x는 0에서 359까지\n",
        "  t.goto(x,200*math.sin(x*3.14/180))                #sin함수 그리기"
      ],
      "metadata": {
        "id": "zhnigXDwDWRB"
      },
      "execution_count": null,
      "outputs": []
    }
  ]
}